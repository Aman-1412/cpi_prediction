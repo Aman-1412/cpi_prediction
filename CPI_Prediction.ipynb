{
 "cells": [
  {
   "cell_type": "code",
   "execution_count": 63,
   "metadata": {},
   "outputs": [],
   "source": [
    "import numpy as np\n",
    "import pandas as pd\n",
    "import requests\n",
    "import matplotlib.pyplot as plt\n",
    "from bs4 import BeautifulSoup\n",
    "from statsmodels.graphics.tsaplots import plot_acf, plot_pacf\n",
    "from statsmodels.tsa.arima_model import ARIMA\n",
    "\n",
    "\n",
    "%reload_ext autoreload\n",
    "%autoreload 2\n",
    "%matplotlib inline"
   ]
  },
  {
   "cell_type": "code",
   "execution_count": 15,
   "metadata": {},
   "outputs": [],
   "source": [
    "np.random.seed(1412)"
   ]
  },
  {
   "cell_type": "code",
   "execution_count": 151,
   "metadata": {},
   "outputs": [],
   "source": [
    "price_quantity = np.random.randn(4100,2)"
   ]
  },
  {
   "cell_type": "code",
   "execution_count": 152,
   "metadata": {},
   "outputs": [],
   "source": [
    "base_price_quantity = price_quantity[0]"
   ]
  },
  {
   "cell_type": "code",
   "execution_count": 153,
   "metadata": {},
   "outputs": [
    {
     "data": {
      "text/html": [
       "<div>\n",
       "<style scoped>\n",
       "    .dataframe tbody tr th:only-of-type {\n",
       "        vertical-align: middle;\n",
       "    }\n",
       "\n",
       "    .dataframe tbody tr th {\n",
       "        vertical-align: top;\n",
       "    }\n",
       "\n",
       "    .dataframe thead th {\n",
       "        text-align: right;\n",
       "    }\n",
       "</style>\n",
       "<table border=\"1\" class=\"dataframe\">\n",
       "  <thead>\n",
       "    <tr style=\"text-align: right;\">\n",
       "      <th></th>\n",
       "      <th>price</th>\n",
       "      <th>quantity</th>\n",
       "    </tr>\n",
       "  </thead>\n",
       "  <tbody>\n",
       "    <tr>\n",
       "      <th>0</th>\n",
       "      <td>-1.169042</td>\n",
       "      <td>-0.390775</td>\n",
       "    </tr>\n",
       "    <tr>\n",
       "      <th>1</th>\n",
       "      <td>-1.093129</td>\n",
       "      <td>-1.127450</td>\n",
       "    </tr>\n",
       "    <tr>\n",
       "      <th>2</th>\n",
       "      <td>-0.304307</td>\n",
       "      <td>0.002182</td>\n",
       "    </tr>\n",
       "    <tr>\n",
       "      <th>3</th>\n",
       "      <td>-0.452348</td>\n",
       "      <td>-0.182037</td>\n",
       "    </tr>\n",
       "    <tr>\n",
       "      <th>4</th>\n",
       "      <td>1.863999</td>\n",
       "      <td>0.309174</td>\n",
       "    </tr>\n",
       "  </tbody>\n",
       "</table>\n",
       "</div>"
      ],
      "text/plain": [
       "      price  quantity\n",
       "0 -1.169042 -0.390775\n",
       "1 -1.093129 -1.127450\n",
       "2 -0.304307  0.002182\n",
       "3 -0.452348 -0.182037\n",
       "4  1.863999  0.309174"
      ]
     },
     "execution_count": 153,
     "metadata": {},
     "output_type": "execute_result"
    }
   ],
   "source": [
    "initialDF = pd.DataFrame(price_quantity,columns=[\"price\",\"quantity\"])\n",
    "initialDF.head()"
   ]
  },
  {
   "cell_type": "code",
   "execution_count": 154,
   "metadata": {},
   "outputs": [
    {
     "data": {
      "text/html": [
       "<div>\n",
       "<style scoped>\n",
       "    .dataframe tbody tr th:only-of-type {\n",
       "        vertical-align: middle;\n",
       "    }\n",
       "\n",
       "    .dataframe tbody tr th {\n",
       "        vertical-align: top;\n",
       "    }\n",
       "\n",
       "    .dataframe thead th {\n",
       "        text-align: right;\n",
       "    }\n",
       "</style>\n",
       "<table border=\"1\" class=\"dataframe\">\n",
       "  <thead>\n",
       "    <tr style=\"text-align: right;\">\n",
       "      <th></th>\n",
       "      <th>price</th>\n",
       "      <th>quantity</th>\n",
       "      <th>cpi</th>\n",
       "    </tr>\n",
       "  </thead>\n",
       "  <tbody>\n",
       "    <tr>\n",
       "      <th>0</th>\n",
       "      <td>-1.169042</td>\n",
       "      <td>-0.390775</td>\n",
       "      <td>0.152705</td>\n",
       "    </tr>\n",
       "    <tr>\n",
       "      <th>1</th>\n",
       "      <td>-1.093129</td>\n",
       "      <td>-1.127450</td>\n",
       "      <td>0.411970</td>\n",
       "    </tr>\n",
       "    <tr>\n",
       "      <th>2</th>\n",
       "      <td>-0.304307</td>\n",
       "      <td>0.002182</td>\n",
       "      <td>-0.000222</td>\n",
       "    </tr>\n",
       "    <tr>\n",
       "      <th>3</th>\n",
       "      <td>-0.452348</td>\n",
       "      <td>-0.182037</td>\n",
       "      <td>0.027525</td>\n",
       "    </tr>\n",
       "    <tr>\n",
       "      <th>4</th>\n",
       "      <td>1.863999</td>\n",
       "      <td>0.309174</td>\n",
       "      <td>0.192640</td>\n",
       "    </tr>\n",
       "  </tbody>\n",
       "</table>\n",
       "</div>"
      ],
      "text/plain": [
       "      price  quantity       cpi\n",
       "0 -1.169042 -0.390775  0.152705\n",
       "1 -1.093129 -1.127450  0.411970\n",
       "2 -0.304307  0.002182 -0.000222\n",
       "3 -0.452348 -0.182037  0.027525\n",
       "4  1.863999  0.309174  0.192640"
      ]
     },
     "execution_count": 154,
     "metadata": {},
     "output_type": "execute_result"
    }
   ],
   "source": [
    "initialDF['cpi'] = pd.Series(initialDF[\"price\"] * initialDF[\"quantity\"]/base_price_quantity[0] * base_price_quantity[1])\n",
    "initialDF.head()"
   ]
  },
  {
   "cell_type": "code",
   "execution_count": 30,
   "metadata": {},
   "outputs": [
    {
     "data": {
      "text/html": [
       "<div>\n",
       "<style scoped>\n",
       "    .dataframe tbody tr th:only-of-type {\n",
       "        vertical-align: middle;\n",
       "    }\n",
       "\n",
       "    .dataframe tbody tr th {\n",
       "        vertical-align: top;\n",
       "    }\n",
       "\n",
       "    .dataframe thead th {\n",
       "        text-align: right;\n",
       "    }\n",
       "</style>\n",
       "<table border=\"1\" class=\"dataframe\">\n",
       "  <thead>\n",
       "    <tr style=\"text-align: right;\">\n",
       "      <th></th>\n",
       "      <th>Year</th>\n",
       "      <th>Month</th>\n",
       "      <th>State</th>\n",
       "      <th>Group</th>\n",
       "      <th>Sub Group</th>\n",
       "      <th>Description</th>\n",
       "      <th>Rural</th>\n",
       "      <th>Urban</th>\n",
       "      <th>Combined</th>\n",
       "      <th>Status</th>\n",
       "      <th>Unnamed: 10</th>\n",
       "    </tr>\n",
       "  </thead>\n",
       "  <tbody>\n",
       "    <tr>\n",
       "      <th>0</th>\n",
       "      <td>2013</td>\n",
       "      <td>January</td>\n",
       "      <td>ALL India</td>\n",
       "      <td>1.0</td>\n",
       "      <td>1.1.01</td>\n",
       "      <td>Cereals and products</td>\n",
       "      <td>107.5</td>\n",
       "      <td>110.5</td>\n",
       "      <td>108.4</td>\n",
       "      <td>F</td>\n",
       "      <td>NaN</td>\n",
       "    </tr>\n",
       "    <tr>\n",
       "      <th>1</th>\n",
       "      <td>2013</td>\n",
       "      <td>February</td>\n",
       "      <td>ALL India</td>\n",
       "      <td>1.0</td>\n",
       "      <td>1.1.01</td>\n",
       "      <td>Cereals and products</td>\n",
       "      <td>109.2</td>\n",
       "      <td>112.9</td>\n",
       "      <td>110.4</td>\n",
       "      <td>F</td>\n",
       "      <td>NaN</td>\n",
       "    </tr>\n",
       "    <tr>\n",
       "      <th>2</th>\n",
       "      <td>2013</td>\n",
       "      <td>March</td>\n",
       "      <td>ALL India</td>\n",
       "      <td>1.0</td>\n",
       "      <td>1.1.01</td>\n",
       "      <td>Cereals and products</td>\n",
       "      <td>110.2</td>\n",
       "      <td>113.9</td>\n",
       "      <td>111.4</td>\n",
       "      <td>F</td>\n",
       "      <td>NaN</td>\n",
       "    </tr>\n",
       "    <tr>\n",
       "      <th>3</th>\n",
       "      <td>2013</td>\n",
       "      <td>April</td>\n",
       "      <td>ALL India</td>\n",
       "      <td>1.0</td>\n",
       "      <td>1.1.01</td>\n",
       "      <td>Cereals and products</td>\n",
       "      <td>110.2</td>\n",
       "      <td>114.6</td>\n",
       "      <td>111.6</td>\n",
       "      <td>F</td>\n",
       "      <td>NaN</td>\n",
       "    </tr>\n",
       "    <tr>\n",
       "      <th>4</th>\n",
       "      <td>2013</td>\n",
       "      <td>May</td>\n",
       "      <td>ALL India</td>\n",
       "      <td>1.0</td>\n",
       "      <td>1.1.01</td>\n",
       "      <td>Cereals and products</td>\n",
       "      <td>110.9</td>\n",
       "      <td>115.4</td>\n",
       "      <td>112.3</td>\n",
       "      <td>F</td>\n",
       "      <td>NaN</td>\n",
       "    </tr>\n",
       "  </tbody>\n",
       "</table>\n",
       "</div>"
      ],
      "text/plain": [
       "   Year     Month      State  Group Sub Group           Description  Rural  \\\n",
       "0  2013   January  ALL India    1.0    1.1.01  Cereals and products  107.5   \n",
       "1  2013  February  ALL India    1.0    1.1.01  Cereals and products  109.2   \n",
       "2  2013     March  ALL India    1.0    1.1.01  Cereals and products  110.2   \n",
       "3  2013     April  ALL India    1.0    1.1.01  Cereals and products  110.2   \n",
       "4  2013       May  ALL India    1.0    1.1.01  Cereals and products  110.9   \n",
       "\n",
       "   Urban  Combined Status  Unnamed: 10  \n",
       "0  110.5     108.4      F          NaN  \n",
       "1  112.9     110.4      F          NaN  \n",
       "2  113.9     111.4      F          NaN  \n",
       "3  114.6     111.6      F          NaN  \n",
       "4  115.4     112.3      F          NaN  "
      ]
     },
     "execution_count": 30,
     "metadata": {},
     "output_type": "execute_result"
    }
   ],
   "source": [
    "cpi_index = pd.read_csv(\"data/CPIndex_Jan13-To-Jul19.csv\")\n",
    "cpi_index.head()"
   ]
  },
  {
   "cell_type": "code",
   "execution_count": 29,
   "metadata": {},
   "outputs": [
    {
     "data": {
      "text/plain": [
       "['(Base 2012=100)']"
      ]
     },
     "execution_count": 29,
     "metadata": {},
     "output_type": "execute_result"
    }
   ],
   "source": [
    "list(cpi_index)"
   ]
  },
  {
   "cell_type": "code",
   "execution_count": 37,
   "metadata": {},
   "outputs": [
    {
     "data": {
      "text/html": [
       "<div>\n",
       "<style scoped>\n",
       "    .dataframe tbody tr th:only-of-type {\n",
       "        vertical-align: middle;\n",
       "    }\n",
       "\n",
       "    .dataframe tbody tr th {\n",
       "        vertical-align: top;\n",
       "    }\n",
       "\n",
       "    .dataframe thead th {\n",
       "        text-align: right;\n",
       "    }\n",
       "</style>\n",
       "<table border=\"1\" class=\"dataframe\">\n",
       "  <thead>\n",
       "    <tr style=\"text-align: right;\">\n",
       "      <th></th>\n",
       "      <th>Year</th>\n",
       "      <th>Month</th>\n",
       "      <th>State</th>\n",
       "      <th>Group</th>\n",
       "      <th>Sub Group</th>\n",
       "      <th>Description</th>\n",
       "      <th>Rural</th>\n",
       "      <th>Urban</th>\n",
       "      <th>Combined</th>\n",
       "      <th>Status</th>\n",
       "      <th>Unnamed: 10</th>\n",
       "    </tr>\n",
       "  </thead>\n",
       "  <tbody>\n",
       "    <tr>\n",
       "      <th>1422</th>\n",
       "      <td>2013</td>\n",
       "      <td>January</td>\n",
       "      <td>ALL India</td>\n",
       "      <td>5.0</td>\n",
       "      <td>NaN</td>\n",
       "      <td>Fuel and light</td>\n",
       "      <td>105.5</td>\n",
       "      <td>105.4</td>\n",
       "      <td>105.5</td>\n",
       "      <td>F</td>\n",
       "      <td>NaN</td>\n",
       "    </tr>\n",
       "    <tr>\n",
       "      <th>1423</th>\n",
       "      <td>2013</td>\n",
       "      <td>February</td>\n",
       "      <td>ALL India</td>\n",
       "      <td>5.0</td>\n",
       "      <td>NaN</td>\n",
       "      <td>Fuel and light</td>\n",
       "      <td>106.2</td>\n",
       "      <td>105.7</td>\n",
       "      <td>106.0</td>\n",
       "      <td>F</td>\n",
       "      <td>NaN</td>\n",
       "    </tr>\n",
       "    <tr>\n",
       "      <th>1424</th>\n",
       "      <td>2013</td>\n",
       "      <td>March</td>\n",
       "      <td>ALL India</td>\n",
       "      <td>5.0</td>\n",
       "      <td>NaN</td>\n",
       "      <td>Fuel and light</td>\n",
       "      <td>106.1</td>\n",
       "      <td>106.0</td>\n",
       "      <td>106.1</td>\n",
       "      <td>F</td>\n",
       "      <td>NaN</td>\n",
       "    </tr>\n",
       "    <tr>\n",
       "      <th>1425</th>\n",
       "      <td>2013</td>\n",
       "      <td>April</td>\n",
       "      <td>ALL India</td>\n",
       "      <td>5.0</td>\n",
       "      <td>NaN</td>\n",
       "      <td>Fuel and light</td>\n",
       "      <td>106.5</td>\n",
       "      <td>106.4</td>\n",
       "      <td>106.5</td>\n",
       "      <td>F</td>\n",
       "      <td>NaN</td>\n",
       "    </tr>\n",
       "    <tr>\n",
       "      <th>1426</th>\n",
       "      <td>2013</td>\n",
       "      <td>May</td>\n",
       "      <td>ALL India</td>\n",
       "      <td>5.0</td>\n",
       "      <td>NaN</td>\n",
       "      <td>Fuel and light</td>\n",
       "      <td>107.5</td>\n",
       "      <td>107.2</td>\n",
       "      <td>107.4</td>\n",
       "      <td>F</td>\n",
       "      <td>NaN</td>\n",
       "    </tr>\n",
       "  </tbody>\n",
       "</table>\n",
       "</div>"
      ],
      "text/plain": [
       "      Year     Month      State  Group Sub Group     Description  Rural  \\\n",
       "1422  2013   January  ALL India    5.0       NaN  Fuel and light  105.5   \n",
       "1423  2013  February  ALL India    5.0       NaN  Fuel and light  106.2   \n",
       "1424  2013     March  ALL India    5.0       NaN  Fuel and light  106.1   \n",
       "1425  2013     April  ALL India    5.0       NaN  Fuel and light  106.5   \n",
       "1426  2013       May  ALL India    5.0       NaN  Fuel and light  107.5   \n",
       "\n",
       "      Urban  Combined Status  Unnamed: 10  \n",
       "1422  105.4     105.5      F          NaN  \n",
       "1423  105.7     106.0      F          NaN  \n",
       "1424  106.0     106.1      F          NaN  \n",
       "1425  106.4     106.5      F          NaN  \n",
       "1426  107.2     107.4      F          NaN  "
      ]
     },
     "execution_count": 37,
     "metadata": {},
     "output_type": "execute_result"
    }
   ],
   "source": [
    "fuel_cpi_index = cpi_index[cpi_index.Group==5.0]\n",
    "fuel_cpi_index.head()"
   ]
  },
  {
   "cell_type": "code",
   "execution_count": 57,
   "metadata": {},
   "outputs": [
    {
     "name": "stderr",
     "output_type": "stream",
     "text": [
      "C:\\Users\\Lenovo\\Anaconda3\\envs\\ml37\\lib\\site-packages\\ipykernel_launcher.py:3: SettingWithCopyWarning: \n",
      "A value is trying to be set on a copy of a slice from a DataFrame.\n",
      "Try using .loc[row_indexer,col_indexer] = value instead\n",
      "\n",
      "See the caveats in the documentation: http://pandas.pydata.org/pandas-docs/stable/indexing.html#indexing-view-versus-copy\n",
      "  This is separate from the ipykernel package so we can avoid doing imports until\n",
      "C:\\Users\\Lenovo\\Anaconda3\\envs\\ml37\\lib\\site-packages\\ipykernel_launcher.py:4: SettingWithCopyWarning: \n",
      "A value is trying to be set on a copy of a slice from a DataFrame.\n",
      "Try using .loc[row_indexer,col_indexer] = value instead\n",
      "\n",
      "See the caveats in the documentation: http://pandas.pydata.org/pandas-docs/stable/indexing.html#indexing-view-versus-copy\n",
      "  after removing the cwd from sys.path.\n"
     ]
    },
    {
     "data": {
      "text/html": [
       "<div>\n",
       "<style scoped>\n",
       "    .dataframe tbody tr th:only-of-type {\n",
       "        vertical-align: middle;\n",
       "    }\n",
       "\n",
       "    .dataframe tbody tr th {\n",
       "        vertical-align: top;\n",
       "    }\n",
       "\n",
       "    .dataframe thead th {\n",
       "        text-align: right;\n",
       "    }\n",
       "</style>\n",
       "<table border=\"1\" class=\"dataframe\">\n",
       "  <thead>\n",
       "    <tr style=\"text-align: right;\">\n",
       "      <th></th>\n",
       "      <th>Year</th>\n",
       "      <th>Month</th>\n",
       "      <th>Combined</th>\n",
       "      <th>Timestamp</th>\n",
       "    </tr>\n",
       "  </thead>\n",
       "  <tbody>\n",
       "    <tr>\n",
       "      <th>1422</th>\n",
       "      <td>2013</td>\n",
       "      <td>1</td>\n",
       "      <td>105.5</td>\n",
       "      <td>2013-01-01</td>\n",
       "    </tr>\n",
       "    <tr>\n",
       "      <th>1423</th>\n",
       "      <td>2013</td>\n",
       "      <td>2</td>\n",
       "      <td>106.0</td>\n",
       "      <td>2013-02-01</td>\n",
       "    </tr>\n",
       "    <tr>\n",
       "      <th>1424</th>\n",
       "      <td>2013</td>\n",
       "      <td>3</td>\n",
       "      <td>106.1</td>\n",
       "      <td>2013-03-01</td>\n",
       "    </tr>\n",
       "    <tr>\n",
       "      <th>1425</th>\n",
       "      <td>2013</td>\n",
       "      <td>4</td>\n",
       "      <td>106.5</td>\n",
       "      <td>2013-04-01</td>\n",
       "    </tr>\n",
       "    <tr>\n",
       "      <th>1426</th>\n",
       "      <td>2013</td>\n",
       "      <td>5</td>\n",
       "      <td>107.4</td>\n",
       "      <td>2013-05-01</td>\n",
       "    </tr>\n",
       "  </tbody>\n",
       "</table>\n",
       "</div>"
      ],
      "text/plain": [
       "      Year  Month  Combined  Timestamp\n",
       "1422  2013      1     105.5 2013-01-01\n",
       "1423  2013      2     106.0 2013-02-01\n",
       "1424  2013      3     106.1 2013-03-01\n",
       "1425  2013      4     106.5 2013-04-01\n",
       "1426  2013      5     107.4 2013-05-01"
      ]
     },
     "execution_count": 57,
     "metadata": {},
     "output_type": "execute_result"
    }
   ],
   "source": [
    "combined_fuel_cpi = fuel_cpi_index[['Year', 'Month','Combined']]\n",
    "months = {\"January\" : 1, \"February\" : 2, \"March\" : 3, \"April\" : 4, \"May\": 5, \"June\" : 6, \"July\" : 7, \"August\" : 8, \"September\" : 9, \"October\" : 10, \"November\" : 11, \"December\" : 12}\n",
    "combined_fuel_cpi['Month'] = combined_fuel_cpi['Month'].map(lambda x: months[x])\n",
    "combined_fuel_cpi['Timestamp'] = pd.to_datetime({'year' : combined_fuel_cpi['Year'], 'month' : combined_fuel_cpi['Month'], 'day':[1] * combined_fuel_cpi.shape[0]})\n",
    "combined_fuel_cpi.head()"
   ]
  },
  {
   "cell_type": "code",
   "execution_count": 58,
   "metadata": {},
   "outputs": [
    {
     "data": {
      "text/html": [
       "<div>\n",
       "<style scoped>\n",
       "    .dataframe tbody tr th:only-of-type {\n",
       "        vertical-align: middle;\n",
       "    }\n",
       "\n",
       "    .dataframe tbody tr th {\n",
       "        vertical-align: top;\n",
       "    }\n",
       "\n",
       "    .dataframe thead th {\n",
       "        text-align: right;\n",
       "    }\n",
       "</style>\n",
       "<table border=\"1\" class=\"dataframe\">\n",
       "  <thead>\n",
       "    <tr style=\"text-align: right;\">\n",
       "      <th></th>\n",
       "      <th>Year</th>\n",
       "      <th>Month</th>\n",
       "      <th>Combined</th>\n",
       "    </tr>\n",
       "    <tr>\n",
       "      <th>Timestamp</th>\n",
       "      <th></th>\n",
       "      <th></th>\n",
       "      <th></th>\n",
       "    </tr>\n",
       "  </thead>\n",
       "  <tbody>\n",
       "    <tr>\n",
       "      <th>2013-01-01</th>\n",
       "      <td>2013</td>\n",
       "      <td>1</td>\n",
       "      <td>105.5</td>\n",
       "    </tr>\n",
       "    <tr>\n",
       "      <th>2013-02-01</th>\n",
       "      <td>2013</td>\n",
       "      <td>2</td>\n",
       "      <td>106.0</td>\n",
       "    </tr>\n",
       "    <tr>\n",
       "      <th>2013-03-01</th>\n",
       "      <td>2013</td>\n",
       "      <td>3</td>\n",
       "      <td>106.1</td>\n",
       "    </tr>\n",
       "    <tr>\n",
       "      <th>2013-04-01</th>\n",
       "      <td>2013</td>\n",
       "      <td>4</td>\n",
       "      <td>106.5</td>\n",
       "    </tr>\n",
       "    <tr>\n",
       "      <th>2013-05-01</th>\n",
       "      <td>2013</td>\n",
       "      <td>5</td>\n",
       "      <td>107.4</td>\n",
       "    </tr>\n",
       "  </tbody>\n",
       "</table>\n",
       "</div>"
      ],
      "text/plain": [
       "            Year  Month  Combined\n",
       "Timestamp                        \n",
       "2013-01-01  2013      1     105.5\n",
       "2013-02-01  2013      2     106.0\n",
       "2013-03-01  2013      3     106.1\n",
       "2013-04-01  2013      4     106.5\n",
       "2013-05-01  2013      5     107.4"
      ]
     },
     "execution_count": 58,
     "metadata": {},
     "output_type": "execute_result"
    }
   ],
   "source": [
    "combined_fuel_cpi = combined_fuel_cpi.set_index(\"Timestamp\")\n",
    "combined_fuel_cpi.head()"
   ]
  },
  {
   "cell_type": "code",
   "execution_count": 59,
   "metadata": {},
   "outputs": [
    {
     "data": {
      "text/html": [
       "<div>\n",
       "<style scoped>\n",
       "    .dataframe tbody tr th:only-of-type {\n",
       "        vertical-align: middle;\n",
       "    }\n",
       "\n",
       "    .dataframe tbody tr th {\n",
       "        vertical-align: top;\n",
       "    }\n",
       "\n",
       "    .dataframe thead th {\n",
       "        text-align: right;\n",
       "    }\n",
       "</style>\n",
       "<table border=\"1\" class=\"dataframe\">\n",
       "  <thead>\n",
       "    <tr style=\"text-align: right;\">\n",
       "      <th></th>\n",
       "      <th>Combined</th>\n",
       "    </tr>\n",
       "    <tr>\n",
       "      <th>Timestamp</th>\n",
       "      <th></th>\n",
       "    </tr>\n",
       "  </thead>\n",
       "  <tbody>\n",
       "    <tr>\n",
       "      <th>2013-01-01</th>\n",
       "      <td>105.5</td>\n",
       "    </tr>\n",
       "    <tr>\n",
       "      <th>2013-02-01</th>\n",
       "      <td>106.0</td>\n",
       "    </tr>\n",
       "    <tr>\n",
       "      <th>2013-03-01</th>\n",
       "      <td>106.1</td>\n",
       "    </tr>\n",
       "    <tr>\n",
       "      <th>2013-04-01</th>\n",
       "      <td>106.5</td>\n",
       "    </tr>\n",
       "    <tr>\n",
       "      <th>2013-05-01</th>\n",
       "      <td>107.4</td>\n",
       "    </tr>\n",
       "  </tbody>\n",
       "</table>\n",
       "</div>"
      ],
      "text/plain": [
       "            Combined\n",
       "Timestamp           \n",
       "2013-01-01     105.5\n",
       "2013-02-01     106.0\n",
       "2013-03-01     106.1\n",
       "2013-04-01     106.5\n",
       "2013-05-01     107.4"
      ]
     },
     "execution_count": 59,
     "metadata": {},
     "output_type": "execute_result"
    }
   ],
   "source": [
    "combined_fuel_cpi = combined_fuel_cpi.drop([\"Year\", \"Month\"], axis = 1)\n",
    "combined_fuel_cpi.head()"
   ]
  },
  {
   "cell_type": "code",
   "execution_count": 77,
   "metadata": {},
   "outputs": [
    {
     "data": {
      "image/png": "[encoded data removed]",
      "text/plain": [
       "<Figure size 432x288 with 1 Axes>"
      ]
     },
     "execution_count": 77,
     "metadata": {},
     "output_type": "execute_result"
    },
    {
     "data": {
      "image/png": "[encoded data removed]",
      "text/plain": [
       "<Figure size 432x288 with 1 Axes>"
      ]
     },
     "metadata": {
      "needs_background": "light"
     },
     "output_type": "display_data"
    }
   ],
   "source": [
    "plot_acf(combined_fuel_cpi.values)"
   ]
  },
  {
   "cell_type": "code",
   "execution_count": 78,
   "metadata": {},
   "outputs": [
    {
     "data": {
      "image/png": "[encoded data removed]",
      "text/plain": [
       "<Figure size 432x288 with 1 Axes>"
      ]
     },
     "execution_count": 78,
     "metadata": {},
     "output_type": "execute_result"
    },
    {
     "data": {
      "image/png": "[encoded data removed]",
      "text/plain": [
       "<Figure size 432x288 with 1 Axes>"
      ]
     },
     "metadata": {
      "needs_background": "light"
     },
     "output_type": "display_data"
    }
   ],
   "source": [
    "plot_pacf(combined_fuel_cpi.values)"
   ]
  },
  {
   "cell_type": "code",
   "execution_count": 95,
   "metadata": {},
   "outputs": [],
   "source": [
    "total_dataset_size = len(combined_fuel_cpi.values)"
   ]
  },
  {
   "cell_type": "code",
   "execution_count": 96,
   "metadata": {},
   "outputs": [],
   "source": [
    "arima_model = ARIMA(combined_fuel_cpi.values[:int(0.7 * total_dataset_size)], order = (1, 1, 1))"
   ]
  },
  {
   "cell_type": "code",
   "execution_count": 97,
   "metadata": {},
   "outputs": [],
   "source": [
    "arima_results = arima_model.fit(disp=0)"
   ]
  },
  {
   "cell_type": "code",
   "execution_count": 98,
   "metadata": {},
   "outputs": [
    {
     "data": {
      "text/html": [
       "<table class=\"simpletable\">\n",
       "<caption>ARIMA Model Results</caption>\n",
       "<tr>\n",
       "  <th>Dep. Variable:</th>        <td>D.y</td>       <th>  No. Observations:  </th>   <td>54</td>   \n",
       "</tr>\n",
       "<tr>\n",
       "  <th>Model:</th>          <td>ARIMA(1, 1, 1)</td>  <th>  Log Likelihood     </th> <td>-27.216</td>\n",
       "</tr>\n",
       "<tr>\n",
       "  <th>Method:</th>             <td>css-mle</td>     <th>  S.D. of innovations</th>  <td>0.400</td> \n",
       "</tr>\n",
       "<tr>\n",
       "  <th>Date:</th>          <td>Tue, 10 Sep 2019</td> <th>  AIC                </th> <td>62.431</td> \n",
       "</tr>\n",
       "<tr>\n",
       "  <th>Time:</th>              <td>17:33:33</td>     <th>  BIC                </th> <td>70.387</td> \n",
       "</tr>\n",
       "<tr>\n",
       "  <th>Sample:</th>                <td>1</td>        <th>  HQIC               </th> <td>65.500</td> \n",
       "</tr>\n",
       "<tr>\n",
       "  <th></th>                       <td> </td>        <th>                     </th>    <td> </td>   \n",
       "</tr>\n",
       "</table>\n",
       "<table class=\"simpletable\">\n",
       "<tr>\n",
       "      <td></td>         <th>coef</th>     <th>std err</th>      <th>z</th>      <th>P>|z|</th>  <th>[0.025</th>    <th>0.975]</th>  \n",
       "</tr>\n",
       "<tr>\n",
       "  <th>const</th>     <td>    0.4457</td> <td>    0.069</td> <td>    6.466</td> <td> 0.000</td> <td>    0.311</td> <td>    0.581</td>\n",
       "</tr>\n",
       "<tr>\n",
       "  <th>ar.L1.D.y</th> <td>   -0.2187</td> <td>    0.343</td> <td>   -0.637</td> <td> 0.527</td> <td>   -0.892</td> <td>    0.455</td>\n",
       "</tr>\n",
       "<tr>\n",
       "  <th>ma.L1.D.y</th> <td>    0.5475</td> <td>    0.292</td> <td>    1.872</td> <td> 0.067</td> <td>   -0.026</td> <td>    1.121</td>\n",
       "</tr>\n",
       "</table>\n",
       "<table class=\"simpletable\">\n",
       "<caption>Roots</caption>\n",
       "<tr>\n",
       "    <td></td>   <th>            Real</th>  <th>         Imaginary</th> <th>         Modulus</th>  <th>        Frequency</th>\n",
       "</tr>\n",
       "<tr>\n",
       "  <th>AR.1</th> <td>          -4.5729</td> <td>          +0.0000j</td> <td>           4.5729</td> <td>           0.5000</td>\n",
       "</tr>\n",
       "<tr>\n",
       "  <th>MA.1</th> <td>          -1.8265</td> <td>          +0.0000j</td> <td>           1.8265</td> <td>           0.5000</td>\n",
       "</tr>\n",
       "</table>"
      ],
      "text/plain": [
       "<class 'statsmodels.iolib.summary.Summary'>\n",
       "\"\"\"\n",
       "                             ARIMA Model Results                              \n",
       "==============================================================================\n",
       "Dep. Variable:                    D.y   No. Observations:                   54\n",
       "Model:                 ARIMA(1, 1, 1)   Log Likelihood                 -27.216\n",
       "Method:                       css-mle   S.D. of innovations              0.400\n",
       "Date:                Tue, 10 Sep 2019   AIC                             62.431\n",
       "Time:                        17:33:33   BIC                             70.387\n",
       "Sample:                             1   HQIC                            65.500\n",
       "                                                                              \n",
       "==============================================================================\n",
       "                 coef    std err          z      P>|z|      [0.025      0.975]\n",
       "------------------------------------------------------------------------------\n",
       "const          0.4457      0.069      6.466      0.000       0.311       0.581\n",
       "ar.L1.D.y     -0.2187      0.343     -0.637      0.527      -0.892       0.455\n",
       "ma.L1.D.y      0.5475      0.292      1.872      0.067      -0.026       1.121\n",
       "                                    Roots                                    \n",
       "=============================================================================\n",
       "                  Real          Imaginary           Modulus         Frequency\n",
       "-----------------------------------------------------------------------------\n",
       "AR.1           -4.5729           +0.0000j            4.5729            0.5000\n",
       "MA.1           -1.8265           +0.0000j            1.8265            0.5000\n",
       "-----------------------------------------------------------------------------\n",
       "\"\"\""
      ]
     },
     "execution_count": 98,
     "metadata": {},
     "output_type": "execute_result"
    }
   ],
   "source": [
    "arima_results.summary()"
   ]
  },
  {
   "cell_type": "code",
   "execution_count": 99,
   "metadata": {},
   "outputs": [],
   "source": [
    "def normalize(x):\n",
    "    return (x - x.min())/(x.max() - x.min())"
   ]
  },
  {
   "cell_type": "code",
   "execution_count": 100,
   "metadata": {},
   "outputs": [
    {
     "data": {
      "text/html": [
       "<div>\n",
       "<style scoped>\n",
       "    .dataframe tbody tr th:only-of-type {\n",
       "        vertical-align: middle;\n",
       "    }\n",
       "\n",
       "    .dataframe tbody tr th {\n",
       "        vertical-align: top;\n",
       "    }\n",
       "\n",
       "    .dataframe thead th {\n",
       "        text-align: right;\n",
       "    }\n",
       "</style>\n",
       "<table border=\"1\" class=\"dataframe\">\n",
       "  <thead>\n",
       "    <tr style=\"text-align: right;\">\n",
       "      <th></th>\n",
       "      <th>Combined</th>\n",
       "    </tr>\n",
       "    <tr>\n",
       "      <th>Timestamp</th>\n",
       "      <th></th>\n",
       "    </tr>\n",
       "  </thead>\n",
       "  <tbody>\n",
       "    <tr>\n",
       "      <th>2013-01-01</th>\n",
       "      <td>0.000000</td>\n",
       "    </tr>\n",
       "    <tr>\n",
       "      <th>2013-02-01</th>\n",
       "      <td>0.012626</td>\n",
       "    </tr>\n",
       "    <tr>\n",
       "      <th>2013-03-01</th>\n",
       "      <td>0.015152</td>\n",
       "    </tr>\n",
       "    <tr>\n",
       "      <th>2013-04-01</th>\n",
       "      <td>0.025253</td>\n",
       "    </tr>\n",
       "    <tr>\n",
       "      <th>2013-05-01</th>\n",
       "      <td>0.047980</td>\n",
       "    </tr>\n",
       "  </tbody>\n",
       "</table>\n",
       "</div>"
      ],
      "text/plain": [
       "            Combined\n",
       "Timestamp           \n",
       "2013-01-01  0.000000\n",
       "2013-02-01  0.012626\n",
       "2013-03-01  0.015152\n",
       "2013-04-01  0.025253\n",
       "2013-05-01  0.047980"
      ]
     },
     "execution_count": 100,
     "metadata": {},
     "output_type": "execute_result"
    }
   ],
   "source": [
    "normalized_combined_fuel_cpi = normalize(combined_fuel_cpi)\n",
    "normalized_combined_fuel_cpi.head()"
   ]
  },
  {
   "cell_type": "code",
   "execution_count": 110,
   "metadata": {},
   "outputs": [],
   "source": [
    "normalized_arima_model = ARIMA(normalized_combined_fuel_cpi.values[:int(0.7 * total_dataset_size)], order = (1, 1, 1))\n",
    "normalized_arima_model_results = normalized_arima_model.fit()"
   ]
  },
  {
   "cell_type": "code",
   "execution_count": 111,
   "metadata": {},
   "outputs": [
    {
     "data": {
      "text/html": [
       "<table class=\"simpletable\">\n",
       "<caption>ARIMA Model Results</caption>\n",
       "<tr>\n",
       "  <th>Dep. Variable:</th>        <td>D.y</td>       <th>  No. Observations:  </th>    <td>54</td>   \n",
       "</tr>\n",
       "<tr>\n",
       "  <th>Model:</th>          <td>ARIMA(1, 1, 1)</td>  <th>  Log Likelihood     </th>  <td>171.441</td>\n",
       "</tr>\n",
       "<tr>\n",
       "  <th>Method:</th>             <td>css-mle</td>     <th>  S.D. of innovations</th>   <td>0.010</td> \n",
       "</tr>\n",
       "<tr>\n",
       "  <th>Date:</th>          <td>Tue, 10 Sep 2019</td> <th>  AIC                </th> <td>-334.882</td>\n",
       "</tr>\n",
       "<tr>\n",
       "  <th>Time:</th>              <td>17:38:18</td>     <th>  BIC                </th> <td>-326.926</td>\n",
       "</tr>\n",
       "<tr>\n",
       "  <th>Sample:</th>                <td>1</td>        <th>  HQIC               </th> <td>-331.814</td>\n",
       "</tr>\n",
       "<tr>\n",
       "  <th></th>                       <td> </td>        <th>                     </th>     <td> </td>   \n",
       "</tr>\n",
       "</table>\n",
       "<table class=\"simpletable\">\n",
       "<tr>\n",
       "      <td></td>         <th>coef</th>     <th>std err</th>      <th>z</th>      <th>P>|z|</th>  <th>[0.025</th>    <th>0.975]</th>  \n",
       "</tr>\n",
       "<tr>\n",
       "  <th>const</th>     <td>    0.0113</td> <td>    0.002</td> <td>    6.466</td> <td> 0.000</td> <td>    0.008</td> <td>    0.015</td>\n",
       "</tr>\n",
       "<tr>\n",
       "  <th>ar.L1.D.y</th> <td>   -0.2187</td> <td>    0.343</td> <td>   -0.637</td> <td> 0.527</td> <td>   -0.892</td> <td>    0.455</td>\n",
       "</tr>\n",
       "<tr>\n",
       "  <th>ma.L1.D.y</th> <td>    0.5475</td> <td>    0.292</td> <td>    1.872</td> <td> 0.067</td> <td>   -0.026</td> <td>    1.121</td>\n",
       "</tr>\n",
       "</table>\n",
       "<table class=\"simpletable\">\n",
       "<caption>Roots</caption>\n",
       "<tr>\n",
       "    <td></td>   <th>            Real</th>  <th>         Imaginary</th> <th>         Modulus</th>  <th>        Frequency</th>\n",
       "</tr>\n",
       "<tr>\n",
       "  <th>AR.1</th> <td>          -4.5729</td> <td>          +0.0000j</td> <td>           4.5729</td> <td>           0.5000</td>\n",
       "</tr>\n",
       "<tr>\n",
       "  <th>MA.1</th> <td>          -1.8265</td> <td>          +0.0000j</td> <td>           1.8265</td> <td>           0.5000</td>\n",
       "</tr>\n",
       "</table>"
      ],
      "text/plain": [
       "<class 'statsmodels.iolib.summary.Summary'>\n",
       "\"\"\"\n",
       "                             ARIMA Model Results                              \n",
       "==============================================================================\n",
       "Dep. Variable:                    D.y   No. Observations:                   54\n",
       "Model:                 ARIMA(1, 1, 1)   Log Likelihood                 171.441\n",
       "Method:                       css-mle   S.D. of innovations              0.010\n",
       "Date:                Tue, 10 Sep 2019   AIC                           -334.882\n",
       "Time:                        17:38:18   BIC                           -326.926\n",
       "Sample:                             1   HQIC                          -331.814\n",
       "                                                                              \n",
       "==============================================================================\n",
       "                 coef    std err          z      P>|z|      [0.025      0.975]\n",
       "------------------------------------------------------------------------------\n",
       "const          0.0113      0.002      6.466      0.000       0.008       0.015\n",
       "ar.L1.D.y     -0.2187      0.343     -0.637      0.527      -0.892       0.455\n",
       "ma.L1.D.y      0.5475      0.292      1.872      0.067      -0.026       1.121\n",
       "                                    Roots                                    \n",
       "=============================================================================\n",
       "                  Real          Imaginary           Modulus         Frequency\n",
       "-----------------------------------------------------------------------------\n",
       "AR.1           -4.5729           +0.0000j            4.5729            0.5000\n",
       "MA.1           -1.8265           +0.0000j            1.8265            0.5000\n",
       "-----------------------------------------------------------------------------\n",
       "\"\"\""
      ]
     },
     "execution_count": 111,
     "metadata": {},
     "output_type": "execute_result"
    }
   ],
   "source": [
    "normalized_arima_model_results.summary()"
   ]
  },
  {
   "cell_type": "code",
   "execution_count": 107,
   "metadata": {},
   "outputs": [
    {
     "name": "stdout",
     "output_type": "stream",
     "text": [
      "[[129.8]\n",
      " [131. ]\n",
      " [132.2]\n",
      " [135.3]\n",
      " [136.6]\n",
      " [136.6]\n",
      " [136.7]\n",
      " [136.5]\n",
      " [136.5]\n",
      " [136.9]\n",
      " [138.1]\n",
      " [139.7]\n",
      " [140.9]\n",
      " [142.3]\n",
      " [143.5]\n",
      " [145.1]\n",
      " [142.7]\n",
      " [139.5]\n",
      " [138.4]\n",
      " [139.7]\n",
      " [140. ]\n",
      " [140.3]\n",
      " [141.2]\n",
      " [139.2]]\n"
     ]
    },
    {
     "data": {
      "text/plain": [
       "array([129.99259318, 130.40612926, 130.85882169, 131.30295138,\n",
       "       131.74895358, 132.19454629, 132.64022855, 133.08589123,\n",
       "       133.5315582 , 133.97722422, 134.42289045, 134.86855664,\n",
       "       135.31422283, 135.75988902, 136.20555522, 136.65122141,\n",
       "       137.0968876 , 137.54255379, 137.98821999, 138.43388618,\n",
       "       138.87955237, 139.32521857, 139.77088476, 140.21655095])"
      ]
     },
     "execution_count": 107,
     "metadata": {},
     "output_type": "execute_result"
    }
   ],
   "source": [
    "print(combined_fuel_cpi.values[int(0.7 * total_dataset_size):])\n",
    "arima_results.forecast(total_dataset_size - int(0.7 * total_dataset_size))[0]"
   ]
  },
  {
   "cell_type": "code",
   "execution_count": 112,
   "metadata": {},
   "outputs": [
    {
     "name": "stdout",
     "output_type": "stream",
     "text": [
      "[[0.61363636]\n",
      " [0.64393939]\n",
      " [0.67424242]\n",
      " [0.75252525]\n",
      " [0.78535354]\n",
      " [0.78535354]\n",
      " [0.78787879]\n",
      " [0.78282828]\n",
      " [0.78282828]\n",
      " [0.79292929]\n",
      " [0.82323232]\n",
      " [0.86363636]\n",
      " [0.89393939]\n",
      " [0.92929293]\n",
      " [0.95959596]\n",
      " [1.        ]\n",
      " [0.93939394]\n",
      " [0.85858586]\n",
      " [0.83080808]\n",
      " [0.86363636]\n",
      " [0.87121212]\n",
      " [0.87878788]\n",
      " [0.90151515]\n",
      " [0.8510101 ]]\n"
     ]
    },
    {
     "data": {
      "text/plain": [
       "array([0.61849982, 0.62894264, 0.64037427, 0.65158966, 0.66285234,\n",
       "       0.67410467, 0.68535927, 0.69661337, 0.70786758, 0.71912177,\n",
       "       0.73037596, 0.74163016, 0.75288435, 0.76413854, 0.77539273,\n",
       "       0.78664692, 0.79790112, 0.80915531, 0.8204095 , 0.83166369,\n",
       "       0.84291788, 0.85417208, 0.86542627, 0.87668046])"
      ]
     },
     "execution_count": 112,
     "metadata": {},
     "output_type": "execute_result"
    }
   ],
   "source": [
    "print(normalized_combined_fuel_cpi.values[int(0.7 * total_dataset_size):])\n",
    "normalized_arima_model_results.forecast(total_dataset_size - int(0.7 * total_dataset_size))[0]"
   ]
  },
  {
   "cell_type": "code",
   "execution_count": 113,
   "metadata": {},
   "outputs": [
    {
     "data": {
      "text/html": [
       "<div>\n",
       "<style scoped>\n",
       "    .dataframe tbody tr th:only-of-type {\n",
       "        vertical-align: middle;\n",
       "    }\n",
       "\n",
       "    .dataframe tbody tr th {\n",
       "        vertical-align: top;\n",
       "    }\n",
       "\n",
       "    .dataframe thead th {\n",
       "        text-align: right;\n",
       "    }\n",
       "</style>\n",
       "<table border=\"1\" class=\"dataframe\">\n",
       "  <thead>\n",
       "    <tr style=\"text-align: right;\">\n",
       "      <th></th>\n",
       "      <th>price</th>\n",
       "      <th>quantity</th>\n",
       "      <th>cpi</th>\n",
       "    </tr>\n",
       "  </thead>\n",
       "  <tbody>\n",
       "    <tr>\n",
       "      <th>0</th>\n",
       "      <td>2.336519</td>\n",
       "      <td>2.506932</td>\n",
       "      <td>6.284707</td>\n",
       "    </tr>\n",
       "    <tr>\n",
       "      <th>1</th>\n",
       "      <td>1.901742</td>\n",
       "      <td>1.294405</td>\n",
       "      <td>2.641161</td>\n",
       "    </tr>\n",
       "    <tr>\n",
       "      <th>2</th>\n",
       "      <td>3.111341</td>\n",
       "      <td>1.233276</td>\n",
       "      <td>4.117003</td>\n",
       "    </tr>\n",
       "    <tr>\n",
       "      <th>3</th>\n",
       "      <td>3.079198</td>\n",
       "      <td>-0.110384</td>\n",
       "      <td>-0.364684</td>\n",
       "    </tr>\n",
       "    <tr>\n",
       "      <th>4</th>\n",
       "      <td>1.348023</td>\n",
       "      <td>0.492986</td>\n",
       "      <td>0.713025</td>\n",
       "    </tr>\n",
       "  </tbody>\n",
       "</table>\n",
       "</div>"
      ],
      "text/plain": [
       "      price  quantity       cpi\n",
       "0  2.336519  2.506932  6.284707\n",
       "1  1.901742  1.294405  2.641161\n",
       "2  3.111341  1.233276  4.117003\n",
       "3  3.079198 -0.110384 -0.364684\n",
       "4  1.348023  0.492986  0.713025"
      ]
     },
     "execution_count": 113,
     "metadata": {},
     "output_type": "execute_result"
    }
   ],
   "source": [
    "initialDF.head()"
   ]
  },
  {
   "cell_type": "code",
   "execution_count": 131,
   "metadata": {},
   "outputs": [
    {
     "data": {
      "text/plain": [
       "DatetimeIndex(['1678-02-01', '1678-03-01', '1678-04-01', '1678-05-01',\n",
       "               '1678-06-01', '1678-07-01', '1678-08-01', '1678-09-01',\n",
       "               '1678-10-01', '1678-11-01',\n",
       "               ...\n",
       "               '2018-12-01', '2019-01-01', '2019-02-01', '2019-03-01',\n",
       "               '2019-04-01', '2019-05-01', '2019-06-01', '2019-07-01',\n",
       "               '2019-08-01', '2019-09-01'],\n",
       "              dtype='datetime64[ns]', length=4100, freq='MS')"
      ]
     },
     "execution_count": 131,
     "metadata": {},
     "output_type": "execute_result"
    }
   ],
   "source": [
    "pd.date_range(end='2019-09-01',periods = 4100, freq = 'MS')"
   ]
  },
  {
   "cell_type": "code",
   "execution_count": 155,
   "metadata": {},
   "outputs": [],
   "source": [
    "initalDF_total_size = initialDF.shape[0]"
   ]
  },
  {
   "cell_type": "code",
   "execution_count": 156,
   "metadata": {},
   "outputs": [],
   "source": [
    "initialDF = initialDF.set_index(pd.date_range(end='2019-09-01', periods = initalDF_total_size, freq = 'MS'))"
   ]
  },
  {
   "cell_type": "code",
   "execution_count": 157,
   "metadata": {},
   "outputs": [
    {
     "data": {
      "text/html": [
       "<div>\n",
       "<style scoped>\n",
       "    .dataframe tbody tr th:only-of-type {\n",
       "        vertical-align: middle;\n",
       "    }\n",
       "\n",
       "    .dataframe tbody tr th {\n",
       "        vertical-align: top;\n",
       "    }\n",
       "\n",
       "    .dataframe thead th {\n",
       "        text-align: right;\n",
       "    }\n",
       "</style>\n",
       "<table border=\"1\" class=\"dataframe\">\n",
       "  <thead>\n",
       "    <tr style=\"text-align: right;\">\n",
       "      <th></th>\n",
       "      <th>cpi</th>\n",
       "    </tr>\n",
       "  </thead>\n",
       "  <tbody>\n",
       "    <tr>\n",
       "      <th>1678-02-01</th>\n",
       "      <td>0.152705</td>\n",
       "    </tr>\n",
       "    <tr>\n",
       "      <th>1678-03-01</th>\n",
       "      <td>0.411970</td>\n",
       "    </tr>\n",
       "    <tr>\n",
       "      <th>1678-04-01</th>\n",
       "      <td>-0.000222</td>\n",
       "    </tr>\n",
       "    <tr>\n",
       "      <th>1678-05-01</th>\n",
       "      <td>0.027525</td>\n",
       "    </tr>\n",
       "    <tr>\n",
       "      <th>1678-06-01</th>\n",
       "      <td>0.192640</td>\n",
       "    </tr>\n",
       "  </tbody>\n",
       "</table>\n",
       "</div>"
      ],
      "text/plain": [
       "                 cpi\n",
       "1678-02-01  0.152705\n",
       "1678-03-01  0.411970\n",
       "1678-04-01 -0.000222\n",
       "1678-05-01  0.027525\n",
       "1678-06-01  0.192640"
      ]
     },
     "execution_count": 157,
     "metadata": {},
     "output_type": "execute_result"
    }
   ],
   "source": [
    "initialDF = initialDF.drop(['price','quantity'], axis = 1)\n",
    "initialDF.head()"
   ]
  },
  {
   "cell_type": "code",
   "execution_count": 158,
   "metadata": {},
   "outputs": [],
   "source": [
    "initialDF_arima_model = ARIMA(initialDF.values[:int(0.7 * initalDF_total_size)], order = (1, 1, 1))\n",
    "initialDF_arima_model_results = initialDF_arima_model.fit(disp = 0)"
   ]
  },
  {
   "cell_type": "code",
   "execution_count": null,
   "metadata": {},
   "outputs": [],
   "source": [
    "initialDF_arima_model_results.summary()"
   ]
  },
  {
   "cell_type": "code",
   "execution_count": null,
   "metadata": {},
   "outputs": [],
   "source": [
    "print(initialDF.values[int(0.7 * initalDF_total_size): int(0.7 * initalDF_total_size) + 10])\n",
    "print(initialDF_arima_model_results.predict(10))"
   ]
  },
  {
   "cell_type": "code",
   "execution_count": null,
   "metadata": {},
   "outputs": [],
   "source": []
  }
 ],
 "metadata": {
  "kernelspec": {
   "display_name": "Python 3",
   "language": "python",
   "name": "python3"
  },
  "language_info": {
   "codemirror_mode": {
    "name": "ipython",
    "version": 3
   },
   "file_extension": ".py",
   "mimetype": "text/x-python",
   "name": "python",
   "nbconvert_exporter": "python",
   "pygments_lexer": "ipython3",
   "version": "3.7.3"
  }
 },
 "nbformat": 4,
 "nbformat_minor": 2
}
